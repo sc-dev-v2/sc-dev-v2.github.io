{
 "cells": [
  {
   "cell_type": "code",
   "execution_count": 60,
   "metadata": {},
   "outputs": [],
   "source": [
    "from selenium import webdriver\n",
    "from selenium.webdriver.common.by import By\n",
    "from selenium.webdriver.chrome.options import Options\n",
    "import codecs\n",
    "import datetime as dt\n",
    "import time\n",
    "import os\n",
    "import os.path\n",
    "import shutil\n",
    "\n",
    "\n",
    "PATH_DIR_DOWNLOADS = os.path.join(f\"c:\\\\Users\\\\{os.getlogin( )}\\\\Downloads\")\n",
    "PATH_DIR_DATA_STORE = os.path.join(f\".\\\\Data_store\")"
   ]
  },
  {
   "cell_type": "code",
   "execution_count": 104,
   "metadata": {},
   "outputs": [],
   "source": [
    "driver = webdriver.Chrome()\n",
    "driver.get('https://email.volganet.ru/?Skin=Samoware')\n",
    "\n",
    "# Select the Login box\n",
    "id_box = driver.find_element(By.NAME, 'username')\n",
    "# Send Login box information\n",
    "id_box.send_keys('d_korostelev')\n",
    "\n",
    "# Find password box\n",
    "pass_box = driver.find_element(By.NAME, 'Password')\n",
    "# Send password box information\n",
    "pass_box.send_keys('Ln##9uFT')\n",
    "time.sleep(2)\n",
    "\n",
    "# Find login button and Click \n",
    "login_button = driver.find_element(By.NAME, 'login').click()\n",
    "time.sleep(2)\n",
    "\n",
    "driver.find_element(By.XPATH, \"//*[@id=\\\"samoware-mail\\\"]/div[1]/div[5]/ul/li[2]/span/span[1]\").click()\n",
    "\n",
    "find_messages_all = driver.find_elements(By.XPATH, \"//*[@class=\\\"samoware-mail-list__item ng-scope\\\"]/div[1]/div\")\n",
    "find_messages_ods = [item for item in find_messages_all if \"ОДС Главного управления МЧС России по Волгоградской области\"in item.text]\n",
    "time.sleep(1.5)\n",
    "\n",
    "iframe = driver.find_element(By.XPATH, '//*[@id=\"samoware-mail\"]/div[2]/div[3]/div[4]/div[1]/iframe')\n",
    "list_download_files = list() \n",
    "\n",
    "for item in find_messages_ods:\n",
    "    driver.find_element(By.XPATH, \"//*[@id=\\\"samoware-mail\\\"]/div[1]/div[5]/ul/li[2]/span/span[1]\").click()\n",
    "    item.click()\n",
    "    time.sleep(2)\n",
    "\n",
    "    driver.switch_to.frame(iframe)\n",
    "\n",
    "    time_start_download = time.time()\n",
    "    files_find_messages = driver.find_element(By.XPATH, \"/html/body/div/div[3]/div/div/button[1]\")\n",
    "    files_find_messages.click()\n",
    " \n",
    "    time.sleep(4)\n",
    "    time_final_download = time.time()\n",
    "    driver.switch_to.default_content()\n",
    "            \n",
    "    all_download_files = [[filename, os.stat(os.path.join(PATH_DIR_DOWNLOADS, filename)).st_mtime] for filename in os.listdir(PATH_DIR_DOWNLOADS)]\n",
    "    download_file = [file for file in all_download_files if file[1] >= time_start_download and  file[1] <= time_final_download]\n",
    "    list_download_files.extend(download_file)\n",
    "    \n",
    "# print(dir(driver.switch_to))\n",
    "# print(files_find_messages[0].tag_name)\n",
    "# print(files_find_messages[0].text)\n",
    "# print(files_find_messages[0].get_attribute(\"class\"))\n",
    "time.sleep(5)"
   ]
  },
  {
   "cell_type": "markdown",
   "metadata": {},
   "source": [
    "## Проверка файлов и добавление"
   ]
  },
  {
   "cell_type": "code",
   "execution_count": 106,
   "metadata": {},
   "outputs": [
    {
     "name": "stdout",
     "output_type": "stream",
     "text": [
      "File: c:\\Users\\AdminOS\\Downloads\\ИВ-219-22-544 Прогноз ЧС ВО на 07.12.2023.PDF don't add to .\\Data_store\n",
      "File: c:\\Users\\AdminOS\\Downloads\\3932-20-3-6 Прогноз ЧС по ЮФО на 06 декабря.pdf don't add to .\\Data_store\n"
     ]
    }
   ],
   "source": [
    "# Список всех файлов с временем последней модификации:\n",
    "# Каждый элемент — это имя файла и время \n",
    "all_data_store_files = [[filename, os.stat(os.path.join(PATH_DIR_DATA_STORE, filename)).st_mtime] for filename in os.listdir(PATH_DIR_DATA_STORE)]\n",
    "all_data_store_files = sorted(all_data_store_files,  reverse=False, key=lambda x:x[1])\n",
    "\n",
    "# Список всех файлов с временем последней модификации:\n",
    "# список файлов и время представлены отдельными списками в списке\n",
    "list_all_data_store_files = [[item[0] for item in all_data_store_files]]\n",
    "list_all_data_store_files.append([item[1] for item in all_data_store_files])\n",
    "\n",
    "for file_download in list_download_files:\n",
    "    ful_path_download_file = os.path.join(PATH_DIR_DOWNLOADS, file_download[0])\n",
    "    ful_path_data_store_file =  os.path.join(PATH_DIR_DATA_STORE, file_download[0])\n",
    "    \n",
    "    if file_download[0] not in list_all_data_store_files[0]:\n",
    "        shutil.copyfile(ful_path_download_file, ful_path_data_store_file)\n",
    "        print(f\"File: {ful_path_download_file} added to {PATH_DIR_DATA_STORE}\")\n",
    "    elif file_download[0] in list_all_data_store_files[0] and file_download[1] > list_all_data_store_files[1][list_all_data_store_files[0].index(file_download[0])]:\n",
    "        shutil.copyfile(os.path.join(PATH_DIR_DOWNLOADS, file_download[0]), os.path.join(PATH_DIR_DATA_STORE, file_download[0]))\n",
    "        print(f\"File: {ful_path_download_file} added to {PATH_DIR_DATA_STORE}\")\n",
    "    else:\n",
    "        print(f\"File: {ful_path_download_file} don't add to {PATH_DIR_DATA_STORE}\")"
   ]
  },
  {
   "cell_type": "markdown",
   "metadata": {},
   "source": [
    "# Создание html страницы"
   ]
  },
  {
   "cell_type": "code",
   "execution_count": 109,
   "metadata": {},
   "outputs": [
    {
     "data": {
      "text/plain": [
       "['3920-20-3-6 Прогноз ЧС по ЮФО на 05 декабря (УТОЧ).pdf',\n",
       " 'ИВ-219-22-541 Прогноз ЧС ВО на 05.12.2023.PDF',\n",
       " '3910-20-3-6 Прогноз ЧС по ЮФО на 04 декабря.pdf',\n",
       " 'ИВ-219-22-540 Прогноз ЧС ВО на 04.12.2023.PDF',\n",
       " 'Информационное донесение ИВ-219-22-539.PDF',\n",
       " '3902-20-3-6 Прогноз ЧС по ЮФО на 03 декабря.pdf',\n",
       " 'ИВ-219-22-538 Прогноз ЧС ВО на 03.12.2023.PDF',\n",
       " '4МОД (2).pdf',\n",
       " 'ИВ-219-22-537 Прогноз ЧС ВО на 02.12.2023.PDF',\n",
       " 'ИВ-219-22-544 Прогноз ЧС ВО на 07.12.2023.PDF',\n",
       " '3932-20-3-6 Прогноз ЧС по ЮФО на 06 декабря.pdf']"
      ]
     },
     "execution_count": 109,
     "metadata": {},
     "output_type": "execute_result"
    }
   ],
   "source": [
    "list_all_data_store_files[0]"
   ]
  },
  {
   "cell_type": "code",
   "execution_count": 107,
   "metadata": {},
   "outputs": [],
   "source": [
    "pattern_file_name_CHS_UFO = 'Прогноз ЧС по ЮФО'\n",
    "pattern_file_name_CHS_VO = 'Прогноз ЧС ВО'\n",
    "pattern_file_name_4MOD = '4МОД'\n",
    "pattern_file_name_IDIV = 'Информационное донесение'\n"
   ]
  },
  {
   "cell_type": "code",
   "execution_count": 116,
   "metadata": {},
   "outputs": [
    {
     "data": {
      "text/plain": [
       "[['3920-20-3-6 Прогноз ЧС по ЮФО на 05 декабря (УТОЧ).pdf',\n",
       "  1701716174.4801993],\n",
       " ['3910-20-3-6 Прогноз ЧС по ЮФО на 04 декабря.pdf', 1701716187.8113368],\n",
       " ['3902-20-3-6 Прогноз ЧС по ЮФО на 03 декабря.pdf', 1701716207.6095128],\n",
       " ['3932-20-3-6 Прогноз ЧС по ЮФО на 06 декабря.pdf', 1701859288.9923868]]"
      ]
     },
     "execution_count": 116,
     "metadata": {},
     "output_type": "execute_result"
    }
   ],
   "source": [
    "all_files_name_CHS_UFO = [[filename, os.stat(os.path.join(PATH_DIR_DATA_STORE, filename)).st_mtime] for filename in os.listdir(PATH_DIR_DATA_STORE) if pattern_file_name_CHS_UFO in filename]\n",
    "all_files_name_CHS_UFO = sorted(all_files_name_CHS_UFO,  reverse=False, key=lambda x:x[1])\n",
    "\n",
    "all_file_name_CHS_VO = [[filename, os.stat(os.path.join(PATH_DIR_DATA_STORE, filename)).st_mtime] for filename in os.listdir(PATH_DIR_DATA_STORE) if pattern_file_name_CHS_VO in filename]\n",
    "all_file_name_CHS_VO = sorted(all_file_name_CHS_VO,  reverse=False, key=lambda x:x[1])\n",
    "\n",
    "all_file_name_4MOD = [[filename, os.stat(os.path.join(PATH_DIR_DATA_STORE, filename)).st_mtime] for filename in os.listdir(PATH_DIR_DATA_STORE) if pattern_file_name_4MOD in filename]\n",
    "all_file_name_4MOD = sorted(all_file_name_4MOD,  reverse=False, key=lambda x:x[1])\n",
    "\n",
    "all_file_name_IDIV = [[filename, os.stat(os.path.join(PATH_DIR_DATA_STORE, filename)).st_mtime] for filename in os.listdir(PATH_DIR_DATA_STORE) if pattern_file_name_IDIV in filename]\n",
    "all_file_name_IDIV = sorted(all_file_name_IDIV,  reverse=False, key=lambda x:x[1])\n"
   ]
  },
  {
   "cell_type": "code",
   "execution_count": 10,
   "metadata": {},
   "outputs": [],
   "source": [
    "files_to_site_list = [f'''<tr>\n",
    "                <td width=\"20px\">{len(all_data_store_files) - i}.</td>\n",
    "                <td>{all_data_store_files[i][0]}</td>\n",
    "                <td><a\n",
    "                    href=\"Data_store/{all_data_store_files[i][0]}\" target=\"_blank\" download=\"{all_data_store_files[i][0]}\">\n",
    "                    <img src=\"image/icon_dowload.png\" alt=\"download\" width=\"20px\" height=\"20px\"></a></td>\n",
    "            </tr>''' for i in range(len(all_data_store_files))]\n",
    "files_to_site_str = (\"\\n\").join(files_to_site_list)\n",
    "\n",
    "\n",
    "site_page_str = f\"\"\"<!DOCTYPE html>\n",
    "<html>\n",
    "\n",
    "<head>\n",
    "    <meta charset=\"utf-8\">\n",
    "    <title></title>\n",
    "    <link rel=\"stylesheet\" href=\"style.css\">\n",
    "</head>\n",
    "\n",
    "<body>\n",
    "    <div class=\"dashboard\">\n",
    "        <h1> ОДС Главного управления МЧС России по Волгоградской области</h1>\n",
    "        <div class=\"container\">\n",
    "        <table>\n",
    "            {files_to_site_str}\n",
    "        </table>\n",
    "    </div>\n",
    "\n",
    "    </div>\n",
    "</body>\n",
    "\n",
    "</html>\n",
    "\"\"\"\n",
    "\n",
    "# Html_file = open(\"index — копия.html\",\"w\")\n",
    "Html_file = codecs.open(\"index.htm\", \"w\", \"utf-8\")\n",
    "Html_file.write(site_page_str)\n",
    "Html_file.close()"
   ]
  }
 ],
 "metadata": {
  "kernelspec": {
   "display_name": "pvenv",
   "language": "python",
   "name": "python3"
  },
  "language_info": {
   "codemirror_mode": {
    "name": "ipython",
    "version": 3
   },
   "file_extension": ".py",
   "mimetype": "text/x-python",
   "name": "python",
   "nbconvert_exporter": "python",
   "pygments_lexer": "ipython3",
   "version": "3.10.4"
  },
  "orig_nbformat": 4,
  "vscode": {
   "interpreter": {
    "hash": "0ae782539d5dcdb3a9b82d5c159c7960db92ceddfc73408a1d9fdb02196f3a40"
   }
  }
 },
 "nbformat": 4,
 "nbformat_minor": 2
}
