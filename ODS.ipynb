{
 "cells": [
  {
   "cell_type": "code",
   "execution_count": 1,
   "metadata": {},
   "outputs": [],
   "source": [
    "from selenium import webdriver\n",
    "from selenium.webdriver.common.by import By\n",
    "from selenium.webdriver.chrome.options import Options\n",
    "import codecs\n",
    "import datetime as dt\n",
    "import time\n",
    "import os\n",
    "import os.path\n",
    "\n",
    "\n",
    "PATH_DIR_DOWNLOADS = os.path.join(f\"c:\\\\Users\\\\{os.getlogin( )}\\\\Downloads\")\n",
    "PATH_DIR_DATA_STORE = os.path.join(f\".\\\\Data_store\")"
   ]
  },
  {
   "cell_type": "code",
   "execution_count": 2,
   "metadata": {},
   "outputs": [
    {
     "ename": "NoSuchElementException",
     "evalue": "Message: no such element: Unable to locate element: {\"method\":\"xpath\",\"selector\":\"//*[@id=\"samoware-mail\"]/div[1]/div[5]/ul/li[2]/span/span[1]\"}\n  (Session info: chrome=119.0.6045.200); For documentation on this error, please visit: https://www.selenium.dev/documentation/webdriver/troubleshooting/errors#no-such-element-exception\nStacktrace:\n\tGetHandleVerifier [0x00007FF728FA82B2+55298]\n\t(No symbol) [0x00007FF728F15E02]\n\t(No symbol) [0x00007FF728DD05AB]\n\t(No symbol) [0x00007FF728E1175C]\n\t(No symbol) [0x00007FF728E118DC]\n\t(No symbol) [0x00007FF728E4CBC7]\n\t(No symbol) [0x00007FF728E320EF]\n\t(No symbol) [0x00007FF728E4AAA4]\n\t(No symbol) [0x00007FF728E31E83]\n\t(No symbol) [0x00007FF728E0670A]\n\t(No symbol) [0x00007FF728E07964]\n\tGetHandleVerifier [0x00007FF729320AAB+3694587]\n\tGetHandleVerifier [0x00007FF72937728E+4048862]\n\tGetHandleVerifier [0x00007FF72936F173+4015811]\n\tGetHandleVerifier [0x00007FF7290447D6+695590]\n\t(No symbol) [0x00007FF728F20CE8]\n\t(No symbol) [0x00007FF728F1CF34]\n\t(No symbol) [0x00007FF728F1D062]\n\t(No symbol) [0x00007FF728F0D3A3]\n\tBaseThreadInitThunk [0x00007FF80A097034+20]\n\tRtlUserThreadStart [0x00007FF80BA02651+33]\n",
     "output_type": "error",
     "traceback": [
      "\u001b[1;31m---------------------------------------------------------------------------\u001b[0m",
      "\u001b[1;31mNoSuchElementException\u001b[0m                    Traceback (most recent call last)",
      "\u001b[1;32mi:\\01_Materials for self-development\\01_Development\\Python\\Program\\Скрипты СЦ ГВО\\sc-dev-v2.github.io\\ODS.ipynb Cell 2\u001b[0m line \u001b[0;36m1\n\u001b[0;32m     <a href='vscode-notebook-cell:/i%3A/01_Materials%20for%20self-development/01_Development/Python/Program/%D0%A1%D0%BA%D1%80%D0%B8%D0%BF%D1%82%D1%8B%20%D0%A1%D0%A6%20%D0%93%D0%92%D0%9E/sc-dev-v2.github.io/ODS.ipynb#W1sZmlsZQ%3D%3D?line=15'>16</a>\u001b[0m login_button \u001b[39m=\u001b[39m driver\u001b[39m.\u001b[39mfind_element(By\u001b[39m.\u001b[39mNAME, \u001b[39m'\u001b[39m\u001b[39mlogin\u001b[39m\u001b[39m'\u001b[39m)\u001b[39m.\u001b[39mclick()\n\u001b[0;32m     <a href='vscode-notebook-cell:/i%3A/01_Materials%20for%20self-development/01_Development/Python/Program/%D0%A1%D0%BA%D1%80%D0%B8%D0%BF%D1%82%D1%8B%20%D0%A1%D0%A6%20%D0%93%D0%92%D0%9E/sc-dev-v2.github.io/ODS.ipynb#W1sZmlsZQ%3D%3D?line=16'>17</a>\u001b[0m time\u001b[39m.\u001b[39msleep(\u001b[39m2\u001b[39m)\n\u001b[1;32m---> <a href='vscode-notebook-cell:/i%3A/01_Materials%20for%20self-development/01_Development/Python/Program/%D0%A1%D0%BA%D1%80%D0%B8%D0%BF%D1%82%D1%8B%20%D0%A1%D0%A6%20%D0%93%D0%92%D0%9E/sc-dev-v2.github.io/ODS.ipynb#W1sZmlsZQ%3D%3D?line=18'>19</a>\u001b[0m driver\u001b[39m.\u001b[39;49mfind_element(By\u001b[39m.\u001b[39;49mXPATH, \u001b[39m\"\u001b[39;49m\u001b[39m//*[@id=\u001b[39;49m\u001b[39m\\\"\u001b[39;49;00m\u001b[39msamoware-mail\u001b[39;49m\u001b[39m\\\"\u001b[39;49;00m\u001b[39m]/div[1]/div[5]/ul/li[2]/span/span[1]\u001b[39;49m\u001b[39m\"\u001b[39;49m)\u001b[39m.\u001b[39mclick()\n\u001b[0;32m     <a href='vscode-notebook-cell:/i%3A/01_Materials%20for%20self-development/01_Development/Python/Program/%D0%A1%D0%BA%D1%80%D0%B8%D0%BF%D1%82%D1%8B%20%D0%A1%D0%A6%20%D0%93%D0%92%D0%9E/sc-dev-v2.github.io/ODS.ipynb#W1sZmlsZQ%3D%3D?line=20'>21</a>\u001b[0m find_messages_all \u001b[39m=\u001b[39m driver\u001b[39m.\u001b[39mfind_elements(By\u001b[39m.\u001b[39mXPATH, \u001b[39m\"\u001b[39m\u001b[39m//*[@class=\u001b[39m\u001b[39m\\\"\u001b[39;00m\u001b[39msamoware-mail-list__item ng-scope\u001b[39m\u001b[39m\\\"\u001b[39;00m\u001b[39m]/div[1]/div\u001b[39m\u001b[39m\"\u001b[39m)\n\u001b[0;32m     <a href='vscode-notebook-cell:/i%3A/01_Materials%20for%20self-development/01_Development/Python/Program/%D0%A1%D0%BA%D1%80%D0%B8%D0%BF%D1%82%D1%8B%20%D0%A1%D0%A6%20%D0%93%D0%92%D0%9E/sc-dev-v2.github.io/ODS.ipynb#W1sZmlsZQ%3D%3D?line=21'>22</a>\u001b[0m find_messages_ods \u001b[39m=\u001b[39m [item \u001b[39mfor\u001b[39;00m item \u001b[39min\u001b[39;00m find_messages_all \u001b[39mif\u001b[39;00m \u001b[39m\"\u001b[39m\u001b[39mОДС Главного управления МЧС России по Волгоградской области\u001b[39m\u001b[39m\"\u001b[39m\u001b[39min\u001b[39;00m item\u001b[39m.\u001b[39mtext]\n",
      "File \u001b[1;32mi:\\01_Materials for self-development\\01_Development\\Python\\Program\\selenium_env\\lib\\site-packages\\selenium\\webdriver\\remote\\webdriver.py:740\u001b[0m, in \u001b[0;36mWebDriver.find_element\u001b[1;34m(self, by, value)\u001b[0m\n\u001b[0;32m    737\u001b[0m     by \u001b[39m=\u001b[39m By\u001b[39m.\u001b[39mCSS_SELECTOR\n\u001b[0;32m    738\u001b[0m     value \u001b[39m=\u001b[39m \u001b[39mf\u001b[39m\u001b[39m'\u001b[39m\u001b[39m[name=\u001b[39m\u001b[39m\"\u001b[39m\u001b[39m{\u001b[39;00mvalue\u001b[39m}\u001b[39;00m\u001b[39m\"\u001b[39m\u001b[39m]\u001b[39m\u001b[39m'\u001b[39m\n\u001b[1;32m--> 740\u001b[0m \u001b[39mreturn\u001b[39;00m \u001b[39mself\u001b[39;49m\u001b[39m.\u001b[39;49mexecute(Command\u001b[39m.\u001b[39;49mFIND_ELEMENT, {\u001b[39m\"\u001b[39;49m\u001b[39musing\u001b[39;49m\u001b[39m\"\u001b[39;49m: by, \u001b[39m\"\u001b[39;49m\u001b[39mvalue\u001b[39;49m\u001b[39m\"\u001b[39;49m: value})[\u001b[39m\"\u001b[39m\u001b[39mvalue\u001b[39m\u001b[39m\"\u001b[39m]\n",
      "File \u001b[1;32mi:\\01_Materials for self-development\\01_Development\\Python\\Program\\selenium_env\\lib\\site-packages\\selenium\\webdriver\\remote\\webdriver.py:346\u001b[0m, in \u001b[0;36mWebDriver.execute\u001b[1;34m(self, driver_command, params)\u001b[0m\n\u001b[0;32m    344\u001b[0m response \u001b[39m=\u001b[39m \u001b[39mself\u001b[39m\u001b[39m.\u001b[39mcommand_executor\u001b[39m.\u001b[39mexecute(driver_command, params)\n\u001b[0;32m    345\u001b[0m \u001b[39mif\u001b[39;00m response:\n\u001b[1;32m--> 346\u001b[0m     \u001b[39mself\u001b[39;49m\u001b[39m.\u001b[39;49merror_handler\u001b[39m.\u001b[39;49mcheck_response(response)\n\u001b[0;32m    347\u001b[0m     response[\u001b[39m\"\u001b[39m\u001b[39mvalue\u001b[39m\u001b[39m\"\u001b[39m] \u001b[39m=\u001b[39m \u001b[39mself\u001b[39m\u001b[39m.\u001b[39m_unwrap_value(response\u001b[39m.\u001b[39mget(\u001b[39m\"\u001b[39m\u001b[39mvalue\u001b[39m\u001b[39m\"\u001b[39m, \u001b[39mNone\u001b[39;00m))\n\u001b[0;32m    348\u001b[0m     \u001b[39mreturn\u001b[39;00m response\n",
      "File \u001b[1;32mi:\\01_Materials for self-development\\01_Development\\Python\\Program\\selenium_env\\lib\\site-packages\\selenium\\webdriver\\remote\\errorhandler.py:245\u001b[0m, in \u001b[0;36mErrorHandler.check_response\u001b[1;34m(self, response)\u001b[0m\n\u001b[0;32m    243\u001b[0m         alert_text \u001b[39m=\u001b[39m value[\u001b[39m\"\u001b[39m\u001b[39malert\u001b[39m\u001b[39m\"\u001b[39m]\u001b[39m.\u001b[39mget(\u001b[39m\"\u001b[39m\u001b[39mtext\u001b[39m\u001b[39m\"\u001b[39m)\n\u001b[0;32m    244\u001b[0m     \u001b[39mraise\u001b[39;00m exception_class(message, screen, stacktrace, alert_text)  \u001b[39m# type: ignore[call-arg]  # mypy is not smart enough here\u001b[39;00m\n\u001b[1;32m--> 245\u001b[0m \u001b[39mraise\u001b[39;00m exception_class(message, screen, stacktrace)\n",
      "\u001b[1;31mNoSuchElementException\u001b[0m: Message: no such element: Unable to locate element: {\"method\":\"xpath\",\"selector\":\"//*[@id=\"samoware-mail\"]/div[1]/div[5]/ul/li[2]/span/span[1]\"}\n  (Session info: chrome=119.0.6045.200); For documentation on this error, please visit: https://www.selenium.dev/documentation/webdriver/troubleshooting/errors#no-such-element-exception\nStacktrace:\n\tGetHandleVerifier [0x00007FF728FA82B2+55298]\n\t(No symbol) [0x00007FF728F15E02]\n\t(No symbol) [0x00007FF728DD05AB]\n\t(No symbol) [0x00007FF728E1175C]\n\t(No symbol) [0x00007FF728E118DC]\n\t(No symbol) [0x00007FF728E4CBC7]\n\t(No symbol) [0x00007FF728E320EF]\n\t(No symbol) [0x00007FF728E4AAA4]\n\t(No symbol) [0x00007FF728E31E83]\n\t(No symbol) [0x00007FF728E0670A]\n\t(No symbol) [0x00007FF728E07964]\n\tGetHandleVerifier [0x00007FF729320AAB+3694587]\n\tGetHandleVerifier [0x00007FF72937728E+4048862]\n\tGetHandleVerifier [0x00007FF72936F173+4015811]\n\tGetHandleVerifier [0x00007FF7290447D6+695590]\n\t(No symbol) [0x00007FF728F20CE8]\n\t(No symbol) [0x00007FF728F1CF34]\n\t(No symbol) [0x00007FF728F1D062]\n\t(No symbol) [0x00007FF728F0D3A3]\n\tBaseThreadInitThunk [0x00007FF80A097034+20]\n\tRtlUserThreadStart [0x00007FF80BA02651+33]\n"
     ]
    }
   ],
   "source": [
    "driver = webdriver.Chrome()\n",
    "driver.get('https://email.volganet.ru/?Skin=Samoware')\n",
    "\n",
    "# Select the Login box\n",
    "id_box = driver.find_element(By.NAME, 'username')\n",
    "# Send Login box information\n",
    "id_box.send_keys('d_korostelev')\n",
    "\n",
    "# Find password box\n",
    "pass_box = driver.find_element(By.NAME, 'Password')\n",
    "# Send password box information\n",
    "pass_box.send_keys('Ln##9uFT')\n",
    "time.sleep(2)\n",
    "\n",
    "# Find login button and Click \n",
    "login_button = driver.find_element(By.NAME, 'login').click()\n",
    "time.sleep(2)\n",
    "\n",
    "driver.find_element(By.XPATH, \"//*[@id=\\\"samoware-mail\\\"]/div[1]/div[5]/ul/li[2]/span/span[1]\").click()\n",
    "\n",
    "find_messages_all = driver.find_elements(By.XPATH, \"//*[@class=\\\"samoware-mail-list__item ng-scope\\\"]/div[1]/div\")\n",
    "find_messages_ods = [item for item in find_messages_all if \"ОДС Главного управления МЧС России по Волгоградской области\"in item.text]\n",
    "time.sleep(1.5)\n",
    "\n",
    "iframe = driver.find_element(By.XPATH, '//*[@id=\"samoware-mail\"]/div[2]/div[3]/div[4]/div[1]/iframe')\n",
    "list_download_files = list() \n",
    "\n",
    "for item in find_messages_ods:\n",
    "    driver.find_element(By.XPATH, \"//*[@id=\\\"samoware-mail\\\"]/div[1]/div[5]/ul/li[2]/span/span[1]\").click()\n",
    "    item.click()\n",
    "    time.sleep(2)\n",
    "\n",
    "    driver.switch_to.frame(iframe)\n",
    "\n",
    "    time_start_download = time.time()\n",
    "    files_find_messages = driver.find_element(By.XPATH, \"/html/body/div/div[3]/div/div/button[1]\")\n",
    "    files_find_messages.click()\n",
    " \n",
    "    time.sleep(4)\n",
    "    time_final_download = time.time()\n",
    "    driver.switch_to.default_content()\n",
    "            \n",
    "    all_download_files = [[filename, os.stat(os.path.join(PATH_DIR_DOWNLOADS, filename)).st_mtime] for filename in os.listdir(PATH_DIR_DOWNLOADS)]\n",
    "    download_file = [file for file in all_download_files if file[1] >= time_start_download and  file[1] <= time_final_download]\n",
    "    list_download_files.extend(download_file)\n",
    "    \n",
    "# print(dir(driver.switch_to))\n",
    "# print(files_find_messages[0].tag_name)\n",
    "# print(files_find_messages[0].text)\n",
    "# print(files_find_messages[0].get_attribute(\"class\"))\n",
    "time.sleep(5)"
   ]
  },
  {
   "cell_type": "code",
   "execution_count": 10,
   "metadata": {},
   "outputs": [
    {
     "data": {
      "text/plain": [
       "[['ИВ-219-22-537 Прогноз ЧС ВО на 02.12.2023.PDF', 1701758103.4230864],\n",
       " ['4МОД.pdf', 1701758098.7892015],\n",
       " ['ИВ-219-22-538 Прогноз ЧС ВО на 03.12.2023.PDF', 1701758096.9625244],\n",
       " ['3902-20-3-6 Прогноз ЧС по ЮФО на 03 декабря.pdf', 1701758089.282447],\n",
       " ['Информационное донесение ИВ-219-22-539.PDF', 1701758082.7713158],\n",
       " ['ИВ-219-22-540 Прогноз ЧС ВО на 04.12.2023.PDF', 1701758076.8569071],\n",
       " ['3910-20-3-6 Прогноз ЧС по ЮФО на 04 декабря.pdf', 1701758069.5858507],\n",
       " ['ИВ-219-22-541 Прогноз ЧС ВО на 05.12.2023.PDF', 1701758063.8166237],\n",
       " ['3920-20-3-6 Прогноз ЧС по ЮФО на 05 декабря (УТОЧ).pdf', 1701758057.104823]]"
      ]
     },
     "execution_count": 10,
     "metadata": {},
     "output_type": "execute_result"
    }
   ],
   "source": [
    "list_download_files = sorted(list_download_files,  reverse=True, key=lambda x:x[1])\n",
    "list_download_files"
   ]
  },
  {
   "cell_type": "code",
   "execution_count": 7,
   "metadata": {},
   "outputs": [
    {
     "data": {
      "text/plain": [
       "[['3920-20-3-6 Прогноз ЧС по ЮФО на 05 декабря (УТОЧ).pdf',\n",
       "  1701716174.4801993],\n",
       " ['ИВ-219-22-541 Прогноз ЧС ВО на 05.12.2023.PDF', 1701716181.3308568],\n",
       " ['3910-20-3-6 Прогноз ЧС по ЮФО на 04 декабря.pdf', 1701716187.8113368],\n",
       " ['ИВ-219-22-540 Прогноз ЧС ВО на 04.12.2023.PDF', 1701716194.5754323],\n",
       " ['Информационное донесение ИВ-219-22-539.PDF', 1701716201.0776134],\n",
       " ['3902-20-3-6 Прогноз ЧС по ЮФО на 03 декабря.pdf', 1701716207.6095128],\n",
       " ['ИВ-219-22-538 Прогноз ЧС ВО на 03.12.2023.PDF', 1701716214.6001558],\n",
       " ['4МОД (2).pdf', 1701716216.969079],\n",
       " ['ИВ-219-22-537 Прогноз ЧС ВО на 02.12.2023.PDF', 1701716221.1344872]]"
      ]
     },
     "execution_count": 7,
     "metadata": {},
     "output_type": "execute_result"
    }
   ],
   "source": [
    "all_data_store_files = [[filename, os.stat(os.path.join(PATH_DIR_DATA_STORE, filename)).st_mtime] for filename in os.listdir(PATH_DIR_DATA_STORE)]\n",
    "all_data_store_files = sorted(all_data_store_files,  reverse=False, key=lambda x:x[1])\n",
    "all_data_store_files\n"
   ]
  },
  {
   "cell_type": "code",
   "execution_count": 10,
   "metadata": {},
   "outputs": [],
   "source": [
    "files_to_site_list = [f'''<tr>\n",
    "                <td width=\"20px\">{len(all_data_store_files) - i}.</td>\n",
    "                <td>{all_data_store_files[i][0]}</td>\n",
    "                <td><a\n",
    "                    href=\"Data_store/{all_data_store_files[i][0]}\" target=\"_blank\" download=\"{all_data_store_files[i][0]}\">\n",
    "                    <img src=\"image/icon_dowload.png\" alt=\"download\" width=\"20px\" height=\"20px\"></a></td>\n",
    "            </tr>''' for i in range(len(all_data_store_files))]\n",
    "files_to_site_str = (\"\\n\").join(files_to_site_list)\n",
    "\n",
    "\n",
    "site_page_str = f\"\"\"<!DOCTYPE html>\n",
    "<html>\n",
    "\n",
    "<head>\n",
    "    <meta charset=\"utf-8\">\n",
    "    <title></title>\n",
    "    <link rel=\"stylesheet\" href=\"style.css\">\n",
    "</head>\n",
    "\n",
    "<body>\n",
    "    <div class=\"dashboard\">\n",
    "        <h1> ОДС Главного управления МЧС России по Волгоградской области</h1>\n",
    "        <div class=\"container\">\n",
    "        <table>\n",
    "            {files_to_site_str}\n",
    "        </table>\n",
    "    </div>\n",
    "\n",
    "    </div>\n",
    "</body>\n",
    "\n",
    "</html>\n",
    "\"\"\"\n",
    "\n",
    "# Html_file = open(\"index — копия.html\",\"w\")\n",
    "Html_file = codecs.open(\"index.htm\", \"w\", \"utf-8\")\n",
    "Html_file.write(site_page_str)\n",
    "Html_file.close()"
   ]
  }
 ],
 "metadata": {
  "kernelspec": {
   "display_name": "pvenv",
   "language": "python",
   "name": "python3"
  },
  "language_info": {
   "codemirror_mode": {
    "name": "ipython",
    "version": 3
   },
   "file_extension": ".py",
   "mimetype": "text/x-python",
   "name": "python",
   "nbconvert_exporter": "python",
   "pygments_lexer": "ipython3",
   "version": "3.10.4"
  },
  "orig_nbformat": 4,
  "vscode": {
   "interpreter": {
    "hash": "0ae782539d5dcdb3a9b82d5c159c7960db92ceddfc73408a1d9fdb02196f3a40"
   }
  }
 },
 "nbformat": 4,
 "nbformat_minor": 2
}
